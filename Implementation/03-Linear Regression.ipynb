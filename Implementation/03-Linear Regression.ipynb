{
 "cells": [
  {
   "cell_type": "code",
   "execution_count": 26,
   "metadata": {},
   "outputs": [],
   "source": [
    "import torch\n",
    "import torch.nn as nn\n",
    "import torch.optim as optim\n",
    "import torch.nn.functional as F"
   ]
  },
  {
   "cell_type": "markdown",
   "metadata": {},
   "source": [
    "## Handicraft Linear Regression\n",
    "* requires_grad = True 는 학습할 것이라고 명시하는 것!"
   ]
  },
  {
   "cell_type": "code",
   "execution_count": 24,
   "metadata": {},
   "outputs": [
    {
     "name": "stdout",
     "output_type": "stream",
     "text": [
      "Epoch  100/1000   W : 1.745   b: 0.579   Cost:0.048\n",
      "Epoch  200/1000   W : 1.800   b: 0.456   Cost:0.030\n",
      "Epoch  300/1000   W : 1.842   b: 0.358   Cost:0.018\n",
      "Epoch  400/1000   W : 1.876   b: 0.281   Cost:0.011\n",
      "Epoch  500/1000   W : 1.903   b: 0.221   Cost:0.007\n",
      "Epoch  600/1000   W : 1.923   b: 0.174   Cost:0.004\n",
      "Epoch  700/1000   W : 1.940   b: 0.137   Cost:0.003\n",
      "Epoch  800/1000   W : 1.953   b: 0.107   Cost:0.002\n",
      "Epoch  900/1000   W : 1.963   b: 0.084   Cost:0.001\n",
      "Epoch 1000/1000   W : 1.971   b: 0.066   Cost:0.001\n"
     ]
    }
   ],
   "source": [
    "# train data\n",
    "x_train = torch.FloatTensor([[1],[2],[3]])\n",
    "y_train = torch.FloatTensor([[2],[4],[6]])\n",
    "\n",
    "# hypothesis\n",
    "W = torch.zeros(1, requires_grad=True) #requires_grad=True는 학습할 것이라고 명시하는 것\n",
    "b = torch.zeros(1, requires_grad=True)\n",
    "\n",
    "optimizer = optim.SGD([W, b], lr=0.01) # optimizer 정의\n",
    "\n",
    "nb_epochs = 1000\n",
    "for epoch in range(1,1+nb_epochs):\n",
    "\n",
    "    hypothesis = x_train * W + b\n",
    "    \n",
    "    # Compute loss : MSE\n",
    "    cost = torch.mean((hypothesis - y_train) ** 2)\n",
    "\n",
    "    # Gradient Descent\n",
    "    \n",
    "    optimizer.zero_grad() #gradient 초기화\n",
    "    cost.backward() #gradient 계산\n",
    "    optimizer.step() # gradient descent\n",
    "    \n",
    "    \n",
    "    if epoch % 100 == 0:\n",
    "        print(f\"Epoch {epoch:4d}/{nb_epochs}   W : {W.item():.3f}   b: {b.item():.3f}   Cost:{cost:.3f}\")"
   ]
  },
  {
   "cell_type": "markdown",
   "metadata": {},
   "source": [
    "## `nn.Module`을 사용한 High level implementation"
   ]
  },
  {
   "cell_type": "code",
   "execution_count": 53,
   "metadata": {},
   "outputs": [],
   "source": [
    "# nn.Module 이라는 class를 상속하여 LinearRegressionModel 만듦\n",
    "class LinearRegressionModel(nn.Module): #nn.Module 상속\n",
    "    def __init__(self):\n",
    "        super().__init__()\n",
    "        self.linear = nn.Linear(1,1) #Linear(size of input sample, size of output sample)\n",
    "        \n",
    "    def forward(self, x):\n",
    "        return self.linear(x) # 모델이 입력을 받아서 출력함\n",
    "    \n",
    "    \n",
    "model = LinearRegressionModel()\n",
    "optimizer = optim.SGD(model.parameters(), lr=0.01)\n",
    "\n"
   ]
  },
  {
   "cell_type": "code",
   "execution_count": 54,
   "metadata": {},
   "outputs": [
    {
     "name": "stdout",
     "output_type": "stream",
     "text": [
      "Epoch  100/1000   W 1.531   b 1.066   cost 0.1638\n",
      "Epoch  200/1000   W 1.631   b 0.838   cost 0.1012\n",
      "Epoch  300/1000   W 1.710   b 0.659   cost 0.0625\n",
      "Epoch  400/1000   W 1.772   b 0.518   cost 0.0386\n",
      "Epoch  500/1000   W 1.821   b 0.407   cost 0.0239\n",
      "Epoch  600/1000   W 1.859   b 0.320   cost 0.0148\n",
      "Epoch  700/1000   W 1.889   b 0.252   cost 0.0091\n",
      "Epoch  800/1000   W 1.913   b 0.198   cost 0.0056\n",
      "Epoch  900/1000   W 1.932   b 0.155   cost 0.0035\n",
      "Epoch 1000/1000   W 1.946   b 0.122   cost 0.0022\n"
     ]
    }
   ],
   "source": [
    "totEpoch = 1000\n",
    "\n",
    "for epoch in range(1, totEpoch + 1):\n",
    "    \n",
    "    prediction = model(x_train)\n",
    "    \n",
    "    cost = F.mse_loss(prediction, y_train)\n",
    "    \n",
    "    optimizer.zero_grad()\n",
    "    cost.backward()\n",
    "    optimizer.step()\n",
    "    \n",
    "    if epoch % 100 == 0:\n",
    "        params = list(model.parameters())\n",
    "        \n",
    "        W = params[0].item()\n",
    "        b = params[1].item()\n",
    "        print(f\"Epoch {epoch:4d}/1000   W {W:.3f}   b {b:.3f}   cost {cost:.4f}\")"
   ]
  },
  {
   "cell_type": "code",
   "execution_count": 31,
   "metadata": {},
   "outputs": [],
   "source": []
  }
 ],
 "metadata": {
  "kernelspec": {
   "display_name": "Python 3",
   "language": "python",
   "name": "python3"
  },
  "language_info": {
   "codemirror_mode": {
    "name": "ipython",
    "version": 3
   },
   "file_extension": ".py",
   "mimetype": "text/x-python",
   "name": "python",
   "nbconvert_exporter": "python",
   "pygments_lexer": "ipython3",
   "version": "3.8.5"
  }
 },
 "nbformat": 4,
 "nbformat_minor": 4
}
